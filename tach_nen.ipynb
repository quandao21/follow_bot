{
 "cells": [
  {
   "cell_type": "code",
   "execution_count": 130,
   "metadata": {},
   "outputs": [
    {
     "name": "stdout",
     "output_type": "stream",
     "text": [
      "0.0063343048095703125\n"
     ]
    }
   ],
   "source": [
    "import open3d as o3d\n",
    "import numpy as np\n",
    "import time\n",
    "# Đọc file ply chứa point cloud\n",
    "\n",
    "# for i in range(10):\n",
    "t1 = time.time() \n",
    "pcd = o3d.io.read_point_cloud(\"example_official/demo4.ply\")\n",
    "pcd = pcd.voxel_down_sample(voxel_size=0.05)\n",
    "array_3d = np.asarray(pcd.points)\n",
    "point_z = array_3d[:,2]\n",
    "point_z = point_z > -4.0\n",
    "array_3d = array_3d[point_z]\n",
    "pcd.points = o3d.utility.Vector3dVector(array_3d)\n",
    "pcd_normals = o3d.geometry.PointCloud()\n",
    "frame = o3d.geometry.TriangleMesh.create_coordinate_frame(size=0.6, origin=[0,0,0])\n",
    "t2 = time.time()\n",
    "\n",
    "\n",
    "pcd.estimate_normals(search_param=o3d.geometry.KDTreeSearchParamHybrid(radius=0.3, max_nn=50))\n",
    "pcd_normals.points = o3d.utility.Vector3dVector(pcd.normals)\n",
    "\n",
    "t3 = time.time()\n",
    "t10 = time.time()\n",
    "plane_model, inliers = pcd_normals.segment_plane(distance_threshold=0.005, #0.01,3,1000\n",
    "                                        ransac_n=3,\n",
    "                                        num_iterations=100)\n",
    "t11 = time.time()\n",
    "\n",
    "plane_normal = pcd_normals.select_by_index(inliers)\n",
    "\n",
    "pcd_show_plane = pcd.select_by_index(inliers)\n",
    "t4 = time.time()\n",
    "\n",
    "\n",
    "pcd_normals.paint_uniform_color([1, 0, 0]) #red\n",
    "plane_normal.paint_uniform_color([0, 0, 1]) #blue\n",
    "pcd_show_plane.paint_uniform_color([1,1,0]) #yellow\n",
    "o3d.visualization.draw_geometries([ frame,pcd_normals,plane_normal,pcd_show_plane])\n",
    "# print(np.array(pcd_normals.points).shape)\n",
    "# print(np.array(pcd.points).shape)\n",
    "# print(\"Khoi tao point cloud:\",round(t2-t1, 3))\n",
    "# print(\"Tinh vector phap tuyen:\",round(t3-t2, 3))\n",
    "# print(\"Segment plane:\",round(t4-t3, 3))\n",
    "# print(round(t4-t2,3))\n",
    "print(t11-t10)\n",
    "\n"
   ]
  },
  {
   "cell_type": "code",
   "execution_count": 129,
   "metadata": {},
   "outputs": [
    {
     "name": "stdout",
     "output_type": "stream",
     "text": [
      "0.017838239669799805\n"
     ]
    }
   ],
   "source": [
    "import open3d as o3d\n",
    "import numpy as np\n",
    "import time\n",
    "# Đọc file ply chứa point cloud\n",
    "\n",
    "# for i in range(10):\n",
    "t1 = time.time() \n",
    "pcd = o3d.io.read_point_cloud(\"example_official/demo4.ply\")\n",
    "pcd = pcd.voxel_down_sample(voxel_size=0.05)\n",
    "array_3d = np.asarray(pcd.points)\n",
    "point_z = array_3d[:,2]\n",
    "point_z = point_z > -4.0\n",
    "array_3d = array_3d[point_z]\n",
    "pcd.points = o3d.utility.Vector3dVector(array_3d)\n",
    "\n",
    "pcd_normals = o3d.geometry.PointCloud() #create point cloud for normal vectors\n",
    "frame = o3d.geometry.TriangleMesh.create_coordinate_frame(size=0.6, origin=[0,0,0]) #create origin axis\n",
    "t2 = time.time()\n",
    "\n",
    "pcd.estimate_normals(search_param=o3d.geometry.KDTreeSearchParamHybrid(radius=0.3, max_nn=50))\n",
    "t10 = time.time()\n",
    "pcd_normals.points = o3d.utility.Vector3dVector(pcd.normals)\n",
    "\n",
    "point_in_normal = np.array(pcd_normals.points)\n",
    "# print(point_in_normal)\n",
    "\n",
    "index_normal = np.where((abs(point_in_normal[:,1]) < 0.3) & (abs(point_in_normal[:,2]) < 0.3) & (abs(point_in_normal[:,0]) > 0))\n",
    "# print(len(index_normal[0]))\n",
    "limit_normal = pcd_normals.select_by_index(index_normal[0])\n",
    "# print(len(limit_normal.points))\n",
    "\n",
    "plane_model, inliers = limit_normal.segment_plane(distance_threshold=0.005, #0.01,3,1000\n",
    "                                        ransac_n=3,\n",
    "                                        num_iterations=100)\n",
    "\n",
    "\n",
    "pair = []\n",
    "plane_on_pcd = []\n",
    "a = 0\n",
    "for i in range(len(limit_normal.points)):\n",
    "    pair.append([index_normal[0][i], i])\n",
    "    if pair[i][1] == inliers[a]:\n",
    "        plane_on_pcd.append(pair[i][0])\n",
    "        a += 1\n",
    "t11 = time.time()\n",
    "\n",
    "\n",
    "segmented_plane = pcd.select_by_index(plane_on_pcd)\n",
    "plane_in_normal = pcd_normals.select_by_index(plane_on_pcd)\n",
    "\n",
    "t4 = time.time()\n",
    "#RGB\n",
    "pcd_normals.paint_uniform_color([1,0,0]) #red\n",
    "segmented_plane.paint_uniform_color([1,0,1]) #purple\n",
    "plane_in_normal.paint_uniform_color([1,1,0]) #yellow\n",
    "limit_normal.paint_uniform_color([0,1,0]) #green\n",
    "\n",
    "o3d.visualization.draw_geometries([ frame,pcd_normals,segmented_plane, limit_normal,plane_in_normal])\n",
    "\n",
    "# print(\"Okkkkkkkkkkkkkkkkkkkk!\")\n",
    "# print(round(t4-t2,3))\n",
    "print(t11-t10)\n",
    "\n",
    "\n"
   ]
  },
  {
   "cell_type": "code",
   "execution_count": null,
   "metadata": {},
   "outputs": [],
   "source": []
  }
 ],
 "metadata": {
  "kernelspec": {
   "display_name": "followbot",
   "language": "python",
   "name": "python3"
  },
  "language_info": {
   "codemirror_mode": {
    "name": "ipython",
    "version": 3
   },
   "file_extension": ".py",
   "mimetype": "text/x-python",
   "name": "python",
   "nbconvert_exporter": "python",
   "pygments_lexer": "ipython3",
   "version": "3.7.16"
  },
  "orig_nbformat": 4,
  "vscode": {
   "interpreter": {
    "hash": "472a67f79ed41fbf8ca7c5f438100cedd0102820846b971c1c6415c145d57e31"
   }
  }
 },
 "nbformat": 4,
 "nbformat_minor": 2
}
