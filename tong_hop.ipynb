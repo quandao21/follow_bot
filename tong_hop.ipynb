{
 "cells": [
  {
   "cell_type": "code",
   "execution_count": 110,
   "metadata": {},
   "outputs": [
    {
     "name": "stdout",
     "output_type": "stream",
     "text": [
      "Load a ply point cloud, print it, and render it\n",
      "(20370, 3)\n",
      "[[ 2.68372    -2.33999    -3.718     ]\n",
      " [ 0.563307   -1.35755    -2.157     ]\n",
      " [ 0.295599   -1.28014    -2.034     ]\n",
      " ...\n",
      " [ 0.09007117  0.90380083 -3.586     ]\n",
      " [ 0.0721494   0.06022297 -2.77566667]\n",
      " [ 0.06836398  0.06260085 -2.7455    ]]\n"
     ]
    }
   ],
   "source": [
    "import numpy as np\n",
    "import open3d as o3d\n",
    "\n",
    "print(\"Load a ply point cloud, print it, and render it\")\n",
    "pcd = o3d.io.read_point_cloud(\"demo6.ply\")\n",
    "pcd_filted= o3d.geometry.PointCloud()\n",
    "\n",
    "pcd = pcd.voxel_down_sample(voxel_size=0.04)\n",
    "array_3d = np.asarray(pcd.points)\n",
    "\n",
    "\n",
    "point_z = array_3d[:,2]\n",
    "point_z = point_z > -4.0\n",
    "array_3d = array_3d[point_z]\n",
    "pcd_filted.points = o3d.utility.Vector3dVector(array_3d)\n",
    "\n",
    "o3d.visualization.draw_geometries([pcd_filted])\n",
    "print(np.array(pcd_filted.points).shape)\n",
    "print(np.array(pcd_filted.points))"
   ]
  },
  {
   "cell_type": "code",
   "execution_count": 3,
   "metadata": {},
   "outputs": [
    {
     "name": "stdout",
     "output_type": "stream",
     "text": [
      "[[-0.01337449  0.9995273   0.02768216]\n",
      " [-0.00918904  0.99961223  0.02628579]\n",
      " [-0.00839575  0.99963397  0.02571824]\n",
      " ...\n",
      " [ 0.97536092  0.07155272  0.20868944]\n",
      " [ 0.98982524  0.0775137   0.11932152]\n",
      " [ 0.07039861 -0.26984642  0.96032648]]\n"
     ]
    }
   ],
   "source": [
    "pcd_filted.estimate_normals(search_param=o3d.geometry.KDTreeSearchParamHybrid(radius=0.3, max_nn=50))\n",
    "o3d.visualization.draw_geometries([pcd_filted])\n",
    "normals_vector = np.asarray(pcd_filted.normals)\n",
    "print(normals_vector)\n",
    "np.savetxt(\"normals_vector.txt\", normals_vector)"
   ]
  },
  {
   "cell_type": "code",
   "execution_count": 125,
   "metadata": {},
   "outputs": [
    {
     "name": "stdout",
     "output_type": "stream",
     "text": [
      "[[-2.27421   1.87629  -2.971   ]\n",
      " [-2.26639   1.87629  -2.971   ]\n",
      " [-2.25857   1.87629  -2.971   ]\n",
      " ...\n",
      " [ 0.339943 -0.258671 -0.411   ]\n",
      " [ 0.341025 -0.258671 -0.411   ]\n",
      " [ 0.342107 -0.258671 -0.411   ]]\n",
      "[[-0.01337449  0.9995273   0.02768216]\n",
      " [-0.00918904  0.99961223  0.02628579]\n",
      " [-0.00839575  0.99963397  0.02571824]\n",
      " ...\n",
      " [ 0.97536092  0.07155272  0.20868944]\n",
      " [ 0.98982524  0.0775137   0.11932152]\n",
      " [ 0.07039861 -0.26984642  0.96032648]]\n"
     ]
    }
   ],
   "source": [
    "import open3d as o3d\n",
    "pcd_normals = o3d.geometry.PointCloud()\n",
    "\n",
    "pcd_normals.points = o3d.utility.Vector3dVector(pcd_filted.normals)\n",
    "print(np.array(pcd.points))\n",
    "print(np.array(pcd_normals.points))\n",
    "\n",
    "coord_frame = o3d.geometry.TriangleMesh.create_coordinate_frame(size=0.5,origin=[0, 0, 0])\n",
    "o3d.visualization.draw_geometries([pcd_filted,pcd_normals,coord_frame])\n",
    "o3d.visualization.draw_geometries([pcd_normals, coord_frame])"
   ]
  },
  {
   "cell_type": "code",
   "execution_count": null,
   "metadata": {},
   "outputs": [],
   "source": [
    "print(np.array(plane_pcd.points))\n",
    "print(\"=========================\")\n",
    "print(np.array(pcd.points))"
   ]
  },
  {
   "cell_type": "code",
   "execution_count": 4,
   "metadata": {},
   "outputs": [
    {
     "name": "stdout",
     "output_type": "stream",
     "text": [
      "(10179, 3)\n",
      "(10179, 3)\n",
      "0.010868310928344727\n"
     ]
    }
   ],
   "source": [
    "import open3d as o3d\n",
    "import numpy as np\n",
    "import time\n",
    "# Đọc file ply chứa point cloud\n",
    "\n",
    "\n",
    "t1 = time.time() \n",
    "pcd = o3d.io.read_point_cloud(\"example_official/demo4.ply\")\n",
    "pcd = pcd.voxel_down_sample(voxel_size=0.05)\n",
    "array_3d = np.asarray(pcd.points)\n",
    "point_z = array_3d[:,2]\n",
    "point_z = point_z > -4.0\n",
    "array_3d = array_3d[point_z]\n",
    "pcd.points = o3d.utility.Vector3dVector(array_3d)\n",
    "pcd_normals = o3d.geometry.PointCloud()\n",
    "frame = o3d.geometry.TriangleMesh.create_coordinate_frame(size=0.6, origin=[0,0,0])\n",
    "t2 = time.time()\n",
    "\n",
    "\n",
    "pcd.estimate_normals(search_param=o3d.geometry.KDTreeSearchParamHybrid(radius=0.3, max_nn=50))\n",
    "pcd_normals.points = o3d.utility.Vector3dVector(pcd.normals)\n",
    "\n",
    "t3 = time.time()\n",
    "plane_model, inliers = pcd_normals.segment_plane(distance_threshold=0.005, #0.01,3,1000\n",
    "                                         ransac_n=3,\n",
    "                                         num_iterations=1000)\n",
    "t4 = time.time()\n",
    "\n",
    "plane_normal = pcd_normals.select_by_index(inliers)\n",
    "\n",
    "pcd_show_plane = pcd.select_by_index(inliers)\n",
    "\n",
    "\n",
    "\n",
    "pcd_normals.paint_uniform_color([1, 0, 0]) #red\n",
    "plane_normal.paint_uniform_color([0, 0, 1]) #blue\n",
    "pcd_show_plane.paint_uniform_color([1,1,0]) #yellow\n",
    "o3d.visualization.draw_geometries([ frame,pcd_normals,plane_normal,pcd_show_plane])\n",
    "print(np.array(pcd_normals.points).shape)\n",
    "print(np.array(pcd.points).shape)\n",
    "print(t4-t3)\n"
   ]
  },
  {
   "cell_type": "code",
   "execution_count": 59,
   "metadata": {},
   "outputs": [
    {
     "name": "stdout",
     "output_type": "stream",
     "text": [
      "(10945, 3)\n",
      "(10945, 3)\n",
      "(1738, 3)\n",
      "(1738, 3)\n"
     ]
    }
   ],
   "source": [
    "print(np.array(pcd.points).shape)\n",
    "print(np.array(pcd_normals.points).shape)\n",
    "print(np.array(pcd_show_plane.points).shape)\n",
    "print(np.array(plane_normal.points).shape)\n"
   ]
  },
  {
   "cell_type": "code",
   "execution_count": 124,
   "metadata": {},
   "outputs": [
    {
     "name": "stdout",
     "output_type": "stream",
     "text": [
      "[[ 0.99965349  0.02286976  0.01303353]\n",
      " [ 0.9992739   0.00318371  0.03796765]\n",
      " [ 0.99978054 -0.01953029 -0.00757886]\n",
      " ...\n",
      " [ 0.99997006 -0.00703792 -0.00321523]\n",
      " [ 0.99999215 -0.00357891 -0.00170037]\n",
      " [ 0.99975202 -0.01445197 -0.01694205]]\n",
      "0\n"
     ]
    }
   ],
   "source": [
    "point_innormal = np.array(plane_normal.points)\n",
    "print(point_innormal)\n",
    "# print(point_innormal[0,:])\n",
    "index_normal = np.where(abs(point_innormal[:,0]) < 0.4)\n",
    "print(len(index_normal[0]))"
   ]
  },
  {
   "cell_type": "code",
   "execution_count": null,
   "metadata": {},
   "outputs": [],
   "source": []
  }
 ],
 "metadata": {
  "kernelspec": {
   "display_name": "followbot",
   "language": "python",
   "name": "python3"
  },
  "language_info": {
   "codemirror_mode": {
    "name": "ipython",
    "version": 3
   },
   "file_extension": ".py",
   "mimetype": "text/x-python",
   "name": "python",
   "nbconvert_exporter": "python",
   "pygments_lexer": "ipython3",
   "version": "3.7.16"
  },
  "orig_nbformat": 4,
  "vscode": {
   "interpreter": {
    "hash": "472a67f79ed41fbf8ca7c5f438100cedd0102820846b971c1c6415c145d57e31"
   }
  }
 },
 "nbformat": 4,
 "nbformat_minor": 2
}
